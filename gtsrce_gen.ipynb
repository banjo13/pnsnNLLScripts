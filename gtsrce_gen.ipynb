{
 "cells": [
  {
   "cell_type": "markdown",
   "metadata": {},
   "source": [
    "# changing the order of the picks so they will be read in correctly by NLLocLib.c\n"
   ]
  },
  {
   "cell_type": "code",
   "execution_count": 1,
   "metadata": {},
   "outputs": [],
   "source": [
    "import os\n",
    "import sys\n",
    "import glob\n",
    "import pandas as pd\n",
    "import numpy as np\n",
    "from obspy import read\n",
    "from obspy.core import UTCDateTime"
   ]
  },
  {
   "cell_type": "code",
   "execution_count": 2,
   "metadata": {},
   "outputs": [],
   "source": [
    "# path='/Users/banjo/Projects/nll_pnsn/util/phaseFiles'\n",
    "# ifile='/pnsn20.hypo' \n",
    "# # ifile='/or80.hypo'\n",
    "# ofile = '/Users/banjo/Projects/nll_pnsn/util/stationInfo/GTRSCE_files/pnsn20_GTSRCE.list'"
   ]
  },
  {
   "cell_type": "code",
   "execution_count": 3,
   "metadata": {},
   "outputs": [],
   "source": [
    "path='/Users/banjo/Projects/nll_pnsn/bremerton'\n",
    "ifile='/bremUpdated.hypo' \n",
    "# ifile='/or80.hypo'\n",
    "# ofile = '/Users/banjo/Projects/nll_pnsn/util/stationInfo/GTRSCE_files/pnsn20_GTSRCE.list'\n",
    "ofile = '/Users/banjo/Projects/nll_pnsn/util/stationInfo/GTRSCE_files/bremUp_GTSRCE.list'"
   ]
  },
  {
   "cell_type": "code",
   "execution_count": 4,
   "metadata": {},
   "outputs": [],
   "source": [
    "datum = 0"
   ]
  },
  {
   "cell_type": "code",
   "execution_count": 5,
   "metadata": {},
   "outputs": [],
   "source": [
    "# GOOD FOR ONE HYPO FILE\n",
    "os.chdir(path)\n",
    "ID=1\n",
    "i=1\n",
    "headers = []\n",
    "PPicks = []\n",
    "SPicks = []\n",
    "MagPicks = []\n",
    "evids = []\n",
    "with open(path+ifile,'r') as fp:\n",
    "    for line in fp.readlines():\n",
    "        i=i+1\n",
    "        if len(line) == 180:\n",
    "            headers.append(line)\n",
    "        elif len(line) == 121 or len(line)==120:            \n",
    "            pha = line[14]\n",
    "            if pha != ' ' and (line[11] == 'Z' or line[11] == '3'):\n",
    "                PPicks.append([line])\n",
    "            elif pha == 'P' and line[16] == '4':\n",
    "                MagPicks.append(line)\n",
    "            else:\n",
    "                SPicks.append(line)\n",
    "        else:\n",
    "            evids.append(line)"
   ]
  },
  {
   "cell_type": "code",
   "execution_count": 6,
   "metadata": {},
   "outputs": [],
   "source": [
    "# RUN THIS TO SORT A HYPOINVERSE FILE. \n",
    "\n",
    "# newHypo = np.concatenate([headers,PPicks,SPicks,MagPicks,evids])\n",
    "# newHypo = np.concatenate([PPicks,SPicks])\n",
    "# newHypo = str(newHypo)\n",
    "# # bad_chars = [\"\\\\n\",\"'\",\"[\",\"]\"]\n",
    "# bad_chars = [\"'[ \", \"\\\\n\", \"']\", \"\\\\n\",\"'\",\"[\",\"]\"]\n",
    "\n",
    "\n",
    "# for i in bad_chars:\n",
    "#     newHypo = newHypo.replace(i,'')\n",
    "    \n",
    "# newHypo = newHypo.replace(\"\\n \",\"\\n\")\n",
    "\n",
    "# with open('/Users/banjo/Projects/nll_pnsn/PNSN_in_CVM_picks.out', 'w') as f:\n",
    "#     f.write(newHypo.strip())\n",
    "#     f.close()"
   ]
  },
  {
   "cell_type": "markdown",
   "metadata": {},
   "source": [
    "## RUN EVERYTHING BELOW FOR A GTSRCE GENERATOR FOR THE FILE ABOVE. "
   ]
  },
  {
   "cell_type": "code",
   "execution_count": 7,
   "metadata": {},
   "outputs": [],
   "source": [
    "stns = []\n",
    "for i in range(len(PPicks)):\n",
    "    stn = PPicks[i][0][0:5]\n",
    "    if stn[3] == \" \":\n",
    "        stn = PPicks[i][0][0:3]\n",
    "        stns.append(stn)\n",
    "    elif stn[4] ==\" \":\n",
    "        stn = PPicks[i][0][0:4]\n",
    "        stns.append(stn)\n",
    "    else:\n",
    "        stn = PPicks[i][0][0:5]\n",
    "        stns.append(stn)\n",
    "#     stns.append(stn)"
   ]
  },
  {
   "cell_type": "code",
   "execution_count": 8,
   "metadata": {},
   "outputs": [],
   "source": [
    "stas = np.unique(stns)"
   ]
  },
  {
   "cell_type": "code",
   "execution_count": 9,
   "metadata": {},
   "outputs": [
    {
     "data": {
      "text/plain": [
       "311"
      ]
     },
     "execution_count": 9,
     "metadata": {},
     "output_type": "execute_result"
    }
   ],
   "source": [
    "len(stas)"
   ]
  },
  {
   "cell_type": "code",
   "execution_count": 10,
   "metadata": {},
   "outputs": [],
   "source": [
    "# len(stas)"
   ]
  },
  {
   "cell_type": "code",
   "execution_count": 11,
   "metadata": {},
   "outputs": [],
   "source": [
    "path2 = '/Users/banjo/Projects/nll_pnsn/util/stationInfo'\n",
    "file = '/all_stations.csv'\n",
    "df1 = pd.read_csv(path2 + file)"
   ]
  },
  {
   "cell_type": "code",
   "execution_count": 12,
   "metadata": {},
   "outputs": [],
   "source": [
    "astas = df1['sta'].values"
   ]
  },
  {
   "cell_type": "code",
   "execution_count": 13,
   "metadata": {},
   "outputs": [],
   "source": [
    "# astas"
   ]
  },
  {
   "cell_type": "code",
   "execution_count": 14,
   "metadata": {},
   "outputs": [],
   "source": [
    "# for i in range(len(astas)):\n",
    "#     print(astas[i])"
   ]
  },
  {
   "cell_type": "code",
   "execution_count": 15,
   "metadata": {},
   "outputs": [],
   "source": [
    "def Diff(li1, li2):\n",
    "    return (list(list(set(li1)-set(li2)) + list(set(li2)-set(li1))))\n",
    "# Driver Code\n",
    "li1 = stas\n",
    "li2 = astas\n",
    "diff = Diff(li2, li1)\n",
    "# print(diff)"
   ]
  },
  {
   "cell_type": "code",
   "execution_count": 16,
   "metadata": {},
   "outputs": [],
   "source": [
    "# len(diff)"
   ]
  },
  {
   "cell_type": "code",
   "execution_count": 17,
   "metadata": {},
   "outputs": [],
   "source": [
    "match_sta = []\n",
    "match_lat =[]\n",
    "match_lon=[]\n",
    "match_ele=[]\n",
    "# tmp = df2['sta'].values\n",
    "tmp = stas\n",
    "\n",
    "for i in range(len(tmp)):\n",
    "    station = tmp[i]\n",
    "    if station in diff:\n",
    "        pass\n",
    "    else:\n",
    "#         print(station)\n",
    "        match = df1.loc[df1['sta'] == station].values[0]\n",
    "#         print(i,match)\n",
    "        match_lat.append(match[2])\n",
    "        match_lon.append(match[3])\n",
    "        match_ele.append(match[4])\n",
    "        match_sta.append(match[1])"
   ]
  },
  {
   "cell_type": "code",
   "execution_count": 18,
   "metadata": {},
   "outputs": [],
   "source": [
    "# match_lat"
   ]
  },
  {
   "cell_type": "code",
   "execution_count": 19,
   "metadata": {},
   "outputs": [],
   "source": [
    "df = pd.DataFrame(list(zip(match_sta,match_lat,match_lon,match_ele)),columns = ['Station','Lat','Lon','Elev'])"
   ]
  },
  {
   "cell_type": "code",
   "execution_count": 20,
   "metadata": {},
   "outputs": [
    {
     "data": {
      "text/html": [
       "<div>\n",
       "<style scoped>\n",
       "    .dataframe tbody tr th:only-of-type {\n",
       "        vertical-align: middle;\n",
       "    }\n",
       "\n",
       "    .dataframe tbody tr th {\n",
       "        vertical-align: top;\n",
       "    }\n",
       "\n",
       "    .dataframe thead th {\n",
       "        text-align: right;\n",
       "    }\n",
       "</style>\n",
       "<table border=\"1\" class=\"dataframe\">\n",
       "  <thead>\n",
       "    <tr style=\"text-align: right;\">\n",
       "      <th></th>\n",
       "      <th>Station</th>\n",
       "      <th>Lat</th>\n",
       "      <th>Lon</th>\n",
       "      <th>Elev</th>\n",
       "    </tr>\n",
       "  </thead>\n",
       "  <tbody>\n",
       "    <tr>\n",
       "      <th>0</th>\n",
       "      <td>7030</td>\n",
       "      <td>47.4509</td>\n",
       "      <td>-122.3022</td>\n",
       "      <td>0.122</td>\n",
       "    </tr>\n",
       "    <tr>\n",
       "      <th>1</th>\n",
       "      <td>7040</td>\n",
       "      <td>47.8559</td>\n",
       "      <td>-122.5833</td>\n",
       "      <td>0.008</td>\n",
       "    </tr>\n",
       "    <tr>\n",
       "      <th>2</th>\n",
       "      <td>ALCT</td>\n",
       "      <td>47.6469</td>\n",
       "      <td>-122.0377</td>\n",
       "      <td>0.055</td>\n",
       "    </tr>\n",
       "    <tr>\n",
       "      <th>3</th>\n",
       "      <td>ALKI</td>\n",
       "      <td>47.5751</td>\n",
       "      <td>-122.4176</td>\n",
       "      <td>0.001</td>\n",
       "    </tr>\n",
       "    <tr>\n",
       "      <th>4</th>\n",
       "      <td>ALLI</td>\n",
       "      <td>47.3201</td>\n",
       "      <td>-122.9157</td>\n",
       "      <td>0.077</td>\n",
       "    </tr>\n",
       "    <tr>\n",
       "      <th>...</th>\n",
       "      <td>...</td>\n",
       "      <td>...</td>\n",
       "      <td>...</td>\n",
       "      <td>...</td>\n",
       "    </tr>\n",
       "    <tr>\n",
       "      <th>305</th>\n",
       "      <td>WRW</td>\n",
       "      <td>47.8564</td>\n",
       "      <td>-120.8830</td>\n",
       "      <td>1.189</td>\n",
       "    </tr>\n",
       "    <tr>\n",
       "      <th>306</th>\n",
       "      <td>WYNO</td>\n",
       "      <td>47.4339</td>\n",
       "      <td>-123.6130</td>\n",
       "      <td>0.935</td>\n",
       "    </tr>\n",
       "    <tr>\n",
       "      <th>307</th>\n",
       "      <td>XTL</td>\n",
       "      <td>46.9298</td>\n",
       "      <td>-121.4945</td>\n",
       "      <td>1.665</td>\n",
       "    </tr>\n",
       "    <tr>\n",
       "      <th>308</th>\n",
       "      <td>YA2</td>\n",
       "      <td>46.5265</td>\n",
       "      <td>-120.5312</td>\n",
       "      <td>0.652</td>\n",
       "    </tr>\n",
       "    <tr>\n",
       "      <th>309</th>\n",
       "      <td>YEL</td>\n",
       "      <td>46.2096</td>\n",
       "      <td>-122.1890</td>\n",
       "      <td>1.750</td>\n",
       "    </tr>\n",
       "  </tbody>\n",
       "</table>\n",
       "<p>310 rows × 4 columns</p>\n",
       "</div>"
      ],
      "text/plain": [
       "    Station      Lat       Lon   Elev\n",
       "0      7030  47.4509 -122.3022  0.122\n",
       "1      7040  47.8559 -122.5833  0.008\n",
       "2      ALCT  47.6469 -122.0377  0.055\n",
       "3      ALKI  47.5751 -122.4176  0.001\n",
       "4      ALLI  47.3201 -122.9157  0.077\n",
       "..      ...      ...       ...    ...\n",
       "305     WRW  47.8564 -120.8830  1.189\n",
       "306    WYNO  47.4339 -123.6130  0.935\n",
       "307     XTL  46.9298 -121.4945  1.665\n",
       "308     YA2  46.5265 -120.5312  0.652\n",
       "309     YEL  46.2096 -122.1890  1.750\n",
       "\n",
       "[310 rows x 4 columns]"
      ]
     },
     "execution_count": 20,
     "metadata": {},
     "output_type": "execute_result"
    }
   ],
   "source": [
    "df.drop_duplicates()"
   ]
  },
  {
   "cell_type": "code",
   "execution_count": 21,
   "metadata": {},
   "outputs": [],
   "source": [
    "srcs = []\n",
    "descriptor = []\n",
    "zeros = []\n",
    "lats = []\n",
    "lons = []\n",
    "elvs = []\n",
    "names=[]\n",
    "for i in range(len(match_lat)):\n",
    "    lat = match_lat[i]\n",
    "    lat = '%8.4f' %lat\n",
    "    lon = match_lon[i]\n",
    "    lon = '%8.4f' %lon\n",
    "    ele = match_ele[i]\n",
    "    ele = '%6.2f' %ele\n",
    "    name = match_sta[i]\n",
    "    name = '%5s' %name\n",
    "    name = str(name)\n",
    "    srcs.append('GTSRCE')\n",
    "    descriptor.append('LATLON')\n",
    "    zeros.append('0.0')\n",
    "    lats.append(lat)\n",
    "    names.append(name)\n",
    "    lons.append(lon)\n",
    "    elvs.append(ele)"
   ]
  },
  {
   "cell_type": "code",
   "execution_count": 22,
   "metadata": {},
   "outputs": [],
   "source": [
    "# df = pd.DataFrame(list(zip(srcs,names,descriptor,lats,lons,zeros,elvs)),columns = ['Source','Station','Descriptor','Lat','Lon','Zeros','Elev'])"
   ]
  },
  {
   "cell_type": "code",
   "execution_count": 23,
   "metadata": {},
   "outputs": [],
   "source": [
    "df = pd.DataFrame(list(zip(srcs,names,descriptor,lats,lons,zeros,zeros)),columns = ['Source','Station','Descriptor','Lat','Lon','Zeros','Elev'])"
   ]
  },
  {
   "cell_type": "code",
   "execution_count": 24,
   "metadata": {},
   "outputs": [],
   "source": [
    "df = df.drop_duplicates()"
   ]
  },
  {
   "cell_type": "code",
   "execution_count": 25,
   "metadata": {},
   "outputs": [],
   "source": [
    "df.to_csv(ofile,index=0,header = False,sep =' ')"
   ]
  },
  {
   "cell_type": "code",
   "execution_count": 25,
   "metadata": {},
   "outputs": [],
   "source": [
    "# df"
   ]
  },
  {
   "cell_type": "code",
   "execution_count": 26,
   "metadata": {},
   "outputs": [],
   "source": [
    "# diff"
   ]
  },
  {
   "cell_type": "code",
   "execution_count": 27,
   "metadata": {},
   "outputs": [],
   "source": [
    "# len(diff)"
   ]
  },
  {
   "cell_type": "code",
   "execution_count": 28,
   "metadata": {},
   "outputs": [],
   "source": [
    "# lat = df['Lat'].values"
   ]
  },
  {
   "cell_type": "code",
   "execution_count": 29,
   "metadata": {},
   "outputs": [],
   "source": [
    "# df = df.sort_values('Lat')"
   ]
  },
  {
   "cell_type": "code",
   "execution_count": 30,
   "metadata": {},
   "outputs": [],
   "source": [
    "# lat"
   ]
  },
  {
   "cell_type": "code",
   "execution_count": 31,
   "metadata": {},
   "outputs": [],
   "source": [
    "# diff"
   ]
  },
  {
   "cell_type": "code",
   "execution_count": null,
   "metadata": {},
   "outputs": [],
   "source": []
  }
 ],
 "metadata": {
  "kernelspec": {
   "display_name": "Python 3",
   "language": "python",
   "name": "python3"
  },
  "language_info": {
   "codemirror_mode": {
    "name": "ipython",
    "version": 3
   },
   "file_extension": ".py",
   "mimetype": "text/x-python",
   "name": "python",
   "nbconvert_exporter": "python",
   "pygments_lexer": "ipython3",
   "version": "3.8.5"
  }
 },
 "nbformat": 4,
 "nbformat_minor": 2
}
